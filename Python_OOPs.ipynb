{
  "nbformat": 4,
  "nbformat_minor": 0,
  "metadata": {
    "colab": {
      "provenance": []
    },
    "kernelspec": {
      "name": "python3",
      "display_name": "Python 3"
    },
    "language_info": {
      "name": "python"
    }
  },
  "cells": [
    {
      "cell_type": "markdown",
      "source": [
        "Theory Questions and answers"
      ],
      "metadata": {
        "id": "wK8fT7b71skc"
      }
    },
    {
      "cell_type": "markdown",
      "source": [
        "# 1. What is Object-Oriented Programming (OOP) ?\n",
        "  - Object-Oriented Programming (OOP) is a programming paradigm that organizes code using objects and classes. It is based on the concept of modeling real-world entities using objects that contain data (attributes) and behavior (methods). OOP promotes code reusability, scalability, and maintainability.\n",
        "\n",
        "\n",
        "# 2. What is a class in OOP ?\n",
        "  - A class is a blueprint or template for creating objects in Object-Oriented Programming (OOP). It defines the attributes (data/variables) and methods (functions) that its objects will have.\n",
        "\n",
        "   Think of a class as a cookie cutter and objects as the cookies made from it. The class defines the structure, but each object has its own unique values.\n",
        "\n",
        "\n",
        "# 3. What is an object in OOP ?\n",
        "  - An object is an instance of a class in Object-Oriented Programming (OOP). It represents a real-world entity with specific attributes (data) and methods (behavior) defined by its class.\n",
        "\n",
        "   Think of a class as a blueprint (like a car design), and an object as an actual car made from that blueprint.\n",
        "\n",
        "\n",
        "# 4. What is the difference between abstraction and encapsulation ?\n",
        "  - 1. Abstraction (Hiding Implementation Details)\n",
        "Abstraction is about hiding complexity and showing only relevant details.\n",
        "In Python, abstract classes and methods help achieve abstraction.\n",
        "\n",
        "   Purpose-\n",
        "\n",
        "   Focuses on what an object does, not how it does it.\n",
        "\n",
        "   How it Works-\n",
        "\n",
        "   Achieved using abstract classes and methods.\n",
        "\n",
        "   Example-\n",
        "   \n",
        "   Using ABC (Abstract Base Class) to define an interface.\n",
        "\n",
        "   Use Case-\n",
        "   \n",
        "   Used to define blueprints for other classes\n",
        "\n",
        "  - 2. Encapsulation (Restricting Data Access)\n",
        "Encapsulation is about hiding internal data and only allowing controlled access through methods.\n",
        "\n",
        "   Purpose-\n",
        "\n",
        "   Protects object data from unintended modification.\n",
        "\n",
        "   How it Works-\n",
        "   \n",
        "   Achieved using access modifiers (public, private, protected).\n",
        "\n",
        "   Example-\n",
        "\n",
        "   Using private (__) and protected (_) attributes.\n",
        "   \n",
        "   Use Case-\n",
        "\n",
        "   Used to hide sensitive data and ensure data integrity.\n",
        "\n",
        "\n",
        "\n",
        "# 5.  What are dunder methods in Python ?\n",
        "  - Dunder (short for Double UNDERscore) methods, also known as magic methods, are special built-in methods in Python that start and end with double underscores (__).\n",
        "\n",
        "  - These methods allow objects to interact with built-in Python functions and operators, enabling operator overloading and custom behaviors for objects.\n",
        "\n",
        "\n",
        "# 6.  Explain the concept of inheritance in OOP ?\n",
        "  - Inheritance is an OOP concept that allows a new class (child class) to acquire the attributes and methods of an existing class (parent class). This promotes code reusability, modularity, and hierarchical relationships between classes.\n",
        "\n",
        "  - Think of inheritance as a family tree: a child inherits properties (like eye color) and behaviors (like speaking) from their parents.\n",
        "  \n",
        "  Advantages of Inheritance-\n",
        "\n",
        "  ✅ Code Reusability → Reduce duplicate code by reusing existing methods.\n",
        "\n",
        "  ✅ Scalability → Extend functionality without modifying existing code.\n",
        "\n",
        "  ✅ Hierarchy Representation → Models real-world relationships (e.g., Vehicle → Car, Bike).\n",
        "\n",
        "\n",
        "# 7. What is polymorphism in OOP ?\n",
        "  - Polymorphism (Greek: \"many forms\") is an OOP concept where the same method or operator behaves differently depending on the object it is acting upon.\n",
        "\n",
        "  - It allows different classes to define methods with the same name but different behaviors, promoting flexibility and reusability in code.\n",
        "\n",
        "  Advantages of Polymorphism-\n",
        "\n",
        "  ✅ Code Flexibility → Write general functions/classes that work with multiple object types.\n",
        "\n",
        "  ✅ Code Reusability → Avoid rewriting similar functions for different object types.\n",
        "\n",
        "  ✅ Enhances Readability → Makes the code more intuitive and organized.\n",
        "\n",
        "\n",
        "# 8. How is encapsulation achieved in Python ?\n",
        "  - Encapsulation is an OOP principle that hides the internal details of an object and restricts direct access to some of its attributes.\n",
        "\n",
        "  Encapsulation in Python is implemented using access modifiers:\n",
        "\n",
        "   Public-\n",
        "\n",
        "   syntax- self.attribute\n",
        "\n",
        "   Accessibility- Accessible from anywhere.\n",
        "   \n",
        "   Protected-\n",
        "\n",
        "   Syntax- self._attribute\n",
        "\n",
        "   Accessibility- Intended for internal use but can still be accessed.\n",
        "   \n",
        "   Private-\n",
        "\n",
        "   Syntax- self.__attribute\n",
        "   \n",
        "   Accessibility- Cannot be accessed directly outside the class.\n",
        "\n",
        "\n",
        "\n",
        "# 9. What is a constructor in Python ?\n",
        "  - A constructor is a special method in a class that is automatically called when an object is created. In Python, the constructor method is __init__().\n",
        "\n",
        "   1. Default Constructor (No Parameters)\n",
        "   - A constructor can exist without parameters (except self).\n",
        "\n",
        "   2. Parameterized Constructor\n",
        "   - A constructor can accept parameters to initialize object attributes.\n",
        "\n",
        "   3. Constructor with Default Values\n",
        "   - A constructor can have default values for attributes.\n",
        "\n",
        "   4. Constructor in Inheritance (Using super())\n",
        "   - In inheritance, the child class can use the parent’s constructor via super().\n",
        "\n",
        "   5. Destructor (__del__() Method)\n",
        "   - Destructor (__del__()) is called when an object is deleted.\n",
        "\n",
        "\n",
        "\n",
        "# 10. What are class and static methods in Python ?\n",
        "  - In Python, class methods and static methods allow us to work with a class without requiring an instance. They are defined using the @classmethod and @staticmethod decorators.\n",
        "\n",
        "   1. Class Methods (@classmethod)\n",
        "    - Definition: A class method operates on the class itself, rather than on instances of the class.\n",
        "    - Key Features:\n",
        "\n",
        "    ✔ Works with the class, not instances.\n",
        "    \n",
        "    ✔ Uses cls as the first parameter (instead of self).\n",
        "    \n",
        "    ✔ Can modify class-level variables.\n",
        "\n",
        "   2. Static Methods (@staticmethod)\n",
        "    - Definition: A static method does not operate on instance or class variables.\n",
        "    - Key Features:\n",
        "    \n",
        "    ✔ No access to cls (class) or self (instance).\n",
        "\n",
        "    ✔ Works as a utility function inside the class.\n",
        "\n",
        "    ✔ Behaves like a regular function but is logically grouped inside the class.\n",
        "\n",
        "\n",
        "\n",
        "# 11. What is method overloading in Python ?\n",
        "  - Method overloading allows multiple methods in the same class with the same name but different parameters (like in Java or C++). However, Python does not support method overloading in the traditional sense.\n",
        "\n",
        "  - Instead, Python allows default arguments, *args, and **kwargs to achieve similar behavior.\n",
        "\n",
        "\n",
        "# 12. What is method overriding in OOP ?\n",
        "  -  Method overriding allows a child class to redefine a method inherited from a parent class.\n",
        "\n",
        "  - The overridden method in the child class must have the same name and parameters as in the parent class.\n",
        "\n",
        "  - This allows custom behavior while still using the parent class’s functionality if needed.\n",
        "\n",
        "\n",
        "# 13. What is a property decorator in Python ?\n",
        "  - The @property decorator allows a method to be accessed like an attribute. It is used to define getters, setters, and deleters for class attributes in an elegant and Pythonic way.\n",
        "\n",
        "  When to Use @property-\n",
        "\n",
        "   ✅ When you need to control access to attributes\n",
        "\n",
        "   ✅ When you want to validate data before setting an attribute\n",
        "   \n",
        "   ✅ When you want to avoid breaking changes (old methods can be converted to properties)\n",
        "   \n",
        "   ✅ When you need read-only attributes\n",
        "\n",
        "   ✔ @property makes method calls look like attribute access\n",
        "   \n",
        "   ✔ @property is used for getters, @setter for modifying values, and @deleter for deletion\n",
        "   \n",
        "   ✔ Makes code cleaner, more readable, and Pythonic\n",
        "   \n",
        "   ✔ Prevents direct access to attributes while allowing controlled modifications\n",
        "\n",
        "\n",
        "\n",
        "# 14. Why is polymorphism important in OOP ?\n",
        "  - Polymorphism means \"many forms\" and allows the same method or function to behave differently based on the object calling it. It is a key principle of Object-Oriented Programming (OOP) that enables flexibility and reusability.\n",
        "\n",
        "  - Importance of Polymorphism in OOP\n",
        "    \n",
        "    1. Code Reusability-\n",
        "\n",
        "     Polymorphism allows a single interface to work with multiple data types, reducing code duplication.\n",
        "\n",
        "    2. Flexibility & Scalability-\n",
        "\n",
        "     Polymorphism allows adding new classes without modifying existing code.\n",
        "\n",
        "    3. Supports Method Overriding (Dynamic Polymorphism)-\n",
        "     \n",
        "     Method overriding allows a child class to provide a specific implementation of a method from its parent class.\n",
        "\n",
        "    4. Improves Readability & Maintainability-\n",
        "     \n",
        "     Polymorphism reduces conditional logic (if-else statements), making code cleaner.\n",
        "\n",
        "\n",
        "\n",
        "# 15. What is an abstract class in Python ?\n",
        "  - An abstract class in Python is a class that cannot be instantiated and is meant to be inherited by other classes. It provides a blueprint for subclasses and usually contains one or more abstract methods that must be implemented by child classes.\n",
        "\n",
        "   Key Features:\n",
        "\n",
        "   ✔ Defined using the ABC (Abstract Base Class) module.\n",
        "   \n",
        "   ✔ Contains abstract methods (methods without implementation).\n",
        "   \n",
        "   ✔ Can have concrete methods (methods with implementation).\n",
        "   \n",
        "   ✔ Cannot be instantiated directly.\n",
        "\n",
        "\n",
        "\n",
        "# 16. What are the advantages of OOP ?\n",
        "  - 1. Code Reusability (Inheritance)\n",
        "     OOP allows reusing existing code using inheritance.\n",
        "     \n",
        "     ✔ Reduces duplication of code.\n",
        "     \n",
        "     ✔ Improves maintainability.\n",
        "\n",
        "    2. Modularity (Encapsulation)\n",
        "OOP groups related code into classes, making it modular and self-contained.\n",
        "     \n",
        "     ✔ Encapsulation restricts direct access to data.\n",
        "     \n",
        "     ✔ Protects sensitive information.\n",
        "\n",
        "    3. Flexibility & Scalability (Polymorphism)\n",
        "     OOP supports polymorphism, which allows one interface to handle multiple implementations.\n",
        "     \n",
        "     ✔ Easier to extend and modify the system.\n",
        "\n",
        "    4. Improved Maintainability\n",
        "     OOP organizes code into small, reusable objects, making it easier to update and debug.\n",
        "     \n",
        "     ✔ Smaller, well-structured components are easier to test.\n",
        "\n",
        "    5. Real-World Modeling\n",
        "     OOP allows real-world objects to be represented in code.\n",
        "     \n",
        "     ✔ Better abstraction—objects behave like real-world entities.\n",
        "\n",
        "\n",
        "\n",
        "# 17. What is the difference between a class variable and an instance variable ?\n",
        "  - In Object-Oriented Programming (OOP), variables in a class can be categorized as class variables and instance variables.\n",
        "\n",
        "   1. Class Variable\n",
        "    \n",
        "     Definition- \tA variable shared across all instances of a class.\n",
        "\n",
        "     Storage-\tStored at the class level (shared by all objects).\\\n",
        "\n",
        "     Declared- \tInside the class, but outside any method.\n",
        "\n",
        "     Access-\tAccessed using ClassName.variable or self.variable.\n",
        "\n",
        "     Modification- \tChanging it affects all instances.\n",
        "\n",
        "   2. Instance Variable\n",
        "\n",
        "     Definition- A variable unique to each instance of a class.\n",
        "     \n",
        "     Storage- Stored at the instance level (each object has its own copy).\n",
        "     \n",
        "     Declared- Inside the class, but defined in the __init__ method.\n",
        "     \n",
        "     Access- Accessed using self.variable.\n",
        "     \n",
        "     Modification- Changing it affects only that instance.\n",
        "\n",
        "\n",
        "\n",
        "# 18. What is multiple inheritance in Python ?\n",
        "  - Multiple inheritance is a feature in Python where a class can inherit from more than one parent class. This allows a child class to access attributes and methods from multiple base classes.\n",
        "\n",
        "   ✔ Increases code reusability\n",
        "   \n",
        "   ✔ Combines functionalities from multiple classes\n",
        "  \n",
        "   ✔ Allows flexibility in design\n",
        "\n",
        "\n",
        "\n",
        "# 19. Explain the purpose of ‘’__str__’ and ‘__repr__’ ‘ methods in Python\n",
        "  - In Python, __str__ and __repr__ are dunder (double underscore) methods used to represent objects as strings.\n",
        "\n",
        "   1. __str__\n",
        "\n",
        "   Purpose - Provides a user-friendly string representation of the object.\n",
        "\n",
        "   When Used? - Used when calling print(obj) or str(obj).\n",
        "\n",
        "   Output Format - Readable and descriptive.\n",
        "\n",
        "   2. __repr__\n",
        "\n",
        "   Purpose - Provides a developer-friendly string representation (useful for debugging).\n",
        "\n",
        "   When Used?\t- Used when calling repr(obj) or when printing an object in the interactive console.\n",
        "\n",
        "   Output Format - Should be an unambiguous representation that recreates the object if possible.\n",
        "\n",
        "\n",
        "\n",
        "#20. What is the significance of the ‘super()’ function in Python ?\n",
        "  - The super() function in Python is used to call methods from a parent (superclass) within a child (subclass).\n",
        "\n",
        "   ✔ Allows code reuse from the parent class.\n",
        "   \n",
        "   ✔ Supports multiple inheritance by following the Method Resolution Order (MRO).\n",
        "   \n",
        "   ✔ Avoids explicitly naming the parent class, making code more maintainable.\n",
        "\n",
        "\n",
        "# 21. What is the significance of the __del__ method in Python ?\n",
        "  - The __del__ method is a special method in Python, also known as a destructor. It is automatically called when an object is about to be destroyed or garbage collected. This method allows you to define custom cleanup actions (such as releasing resources) before the object is deleted from memory.\n",
        "\n",
        "  Purpose of __del__\n",
        "\n",
        "   The primary purpose of the __del__ method is to perform cleanup tasks like:\n",
        "   - Closing files or network connections.\n",
        "   - Releasing database connections or other resources.\n",
        "   - Cleaning up other external resources that need explicit deallocation.\n",
        "\n",
        "\n",
        "# 22. What is the difference between @staticmethod and @classmethod in Python ?\n",
        "  - 1. @staticmethod\n",
        "\n",
        "  - Does not receive the class (cls) or instance (self) as its first argument.\n",
        "\n",
        "  - Behaves like a regular function but belongs to the class's namespace.\n",
        "\n",
        "  - Cannot modify class or instance state.\n",
        "\n",
        "  - Used when a method does not need access to instance or class variables.\n",
        "\n",
        "  2. @classmethod\n",
        "  - Receives the class (cls) as its first argument.\n",
        "  \n",
        "  - Can modify class-level attributes.\n",
        "  \n",
        "  - Often used as alternative constructors or to manipulate class-wide data.\n",
        "\n",
        "\n",
        "# 23.  How does polymorphism work in Python with inheritance ?\n",
        "  - Polymorphism allows different classes to be treated as instances of the same class through a common interface, usually achieved via method overriding in inheritance.\n",
        "\n",
        "   - Method Overriding: Subclasses redefine a parent method to provide specific behavior.\n",
        "  \n",
        "   - Dynamic Dispatch: Calls the correct method based on the object's actual type.\n",
        "\n",
        "   - Function-Based Polymorphism: Functions work with objects of different classes as long as they follow the same interface.\n",
        "   \n",
        "   - Abstract Classes: Enforce method implementation in subclasses to guarantee polymorphism.\n",
        "\n",
        "\n",
        "\n",
        "# 24. What is method chaining in Python OOP ?\n",
        "  - Method chaining is a technique in object-oriented programming where multiple method calls are linked (chained) together in a single statement. It improves code readability and fluency by returning self from methods.\n",
        "\n",
        "\n",
        "# 25. What is the purpose of the __call__ method in Python ?\n",
        "  - The __call__ method in Python allows an instance of a class to be called like a function. This makes objects callable like functions while still maintaining state.\n",
        "\n",
        "   ✅ __call__ makes an object behave like a function.\n",
        "   \n",
        "   ✅ Useful for function wrappers (decorators), stateful functions, and strategy patterns.\n",
        "   \n",
        "   ✅ Allows object instances to be passed where functions are expected.\n"
      ],
      "metadata": {
        "id": "RjAKlZIo14cM"
      }
    },
    {
      "cell_type": "code",
      "source": [],
      "metadata": {
        "id": "u1XICd1wRcGV"
      },
      "execution_count": null,
      "outputs": []
    },
    {
      "cell_type": "markdown",
      "source": [
        "Practical Questions and answers"
      ],
      "metadata": {
        "id": "966BenaKRg_4"
      }
    },
    {
      "cell_type": "code",
      "source": [
        "# 1.  Create a parent class Animal with a method speak() that prints a generic message. Create a child class Dog that overrides the speak() method to print \"Bark!\"\n",
        "\n",
        "class Animal:\n",
        "    def speak(self):\n",
        "        print(\"This animal makes a sound.\")\n",
        "\n",
        "class Dog(Animal):\n",
        "    def speak(self):\n",
        "        print(\"Bark!\")"
      ],
      "metadata": {
        "id": "GXFNhsKIRjoD"
      },
      "execution_count": null,
      "outputs": []
    },
    {
      "cell_type": "code",
      "source": [
        "animal = Animal()\n",
        "animal.speak()"
      ],
      "metadata": {
        "colab": {
          "base_uri": "https://localhost:8080/"
        },
        "id": "dVgekByYR6gO",
        "outputId": "2ce3dae0-02ec-46a4-9f5d-dee6e9d03521"
      },
      "execution_count": null,
      "outputs": [
        {
          "output_type": "stream",
          "name": "stdout",
          "text": [
            "This animal makes a sound.\n"
          ]
        }
      ]
    },
    {
      "cell_type": "code",
      "source": [
        "dog = Dog()\n",
        "dog.speak()"
      ],
      "metadata": {
        "colab": {
          "base_uri": "https://localhost:8080/"
        },
        "id": "CCNKlDvkSAJU",
        "outputId": "50330db5-b133-48be-e6f8-5c078344e76a"
      },
      "execution_count": null,
      "outputs": [
        {
          "output_type": "stream",
          "name": "stdout",
          "text": [
            "Bark!\n"
          ]
        }
      ]
    },
    {
      "cell_type": "code",
      "source": [
        "# 2.Write a program to create an abstract class Shape with a method area(). Derive classes Circle and Rectangle from it and implement the area() method in both.\n",
        "\n",
        "from abc import ABC, abstractmethod\n",
        "import math\n",
        "\n",
        "# Abstract class\n",
        "class Shape(ABC):\n",
        "    @abstractmethod\n",
        "    def area(self):\n",
        "        pass  # Abstract method, must be implemented by subclasses\n",
        "\n",
        "# Derived class: Circle\n",
        "class Circle(Shape):\n",
        "    def __init__(self, radius):\n",
        "        self.radius = radius\n",
        "\n",
        "    def area(self):\n",
        "        return math.pi * self.radius ** 2\n",
        "\n",
        "# Derived class: Rectangle\n",
        "class Rectangle(Shape):\n",
        "    def __init__(self, length, width):\n",
        "        self.length = length\n",
        "        self.width = width\n",
        "\n",
        "    def area(self):\n",
        "        return self.length * self.width\n"
      ],
      "metadata": {
        "id": "h_IUPVKVSFMW"
      },
      "execution_count": null,
      "outputs": []
    },
    {
      "cell_type": "code",
      "source": [
        "circle = Circle(5)\n",
        "rectangle = Rectangle(4, 6)"
      ],
      "metadata": {
        "id": "l4hKzW08Syvj"
      },
      "execution_count": null,
      "outputs": []
    },
    {
      "cell_type": "code",
      "source": [
        "print(f\"Circle Area: {circle.area():.2f}\")"
      ],
      "metadata": {
        "colab": {
          "base_uri": "https://localhost:8080/"
        },
        "id": "IFBspv0fS_vl",
        "outputId": "0b409258-795e-4f57-ca5d-6416295904bf"
      },
      "execution_count": null,
      "outputs": [
        {
          "output_type": "stream",
          "name": "stdout",
          "text": [
            "Circle Area: 78.54\n"
          ]
        }
      ]
    },
    {
      "cell_type": "code",
      "source": [
        "print(f\"Rectangle Area: {rectangle.area()}\")"
      ],
      "metadata": {
        "colab": {
          "base_uri": "https://localhost:8080/"
        },
        "id": "bFWpsS8ITDTp",
        "outputId": "b2ff3bcf-cde8-4767-f5af-d15724f74b28"
      },
      "execution_count": null,
      "outputs": [
        {
          "output_type": "stream",
          "name": "stdout",
          "text": [
            "Rectangle Area: 24\n"
          ]
        }
      ]
    },
    {
      "cell_type": "code",
      "source": [
        "# 3.  Implement a multi-level inheritance scenario where a class Vehicle has an attribute type. Derive a class Car and further derive a class ElectricCar that adds a battery attribute.\n",
        "\n",
        "class Vehicle:\n",
        "    def __init__(self, type):\n",
        "        self.type = type\n",
        "\n",
        "    def display_type(self):\n",
        "        print(f\"Vehicle Type: {self.type}\")\n",
        "\n",
        "# Intermediate class (inherits from Vehicle)\n",
        "class Car(Vehicle):\n",
        "    def __init__(self, type, brand):\n",
        "        super().__init__(type)\n",
        "        self.brand = brand\n",
        "\n",
        "    def display_car(self):\n",
        "        print(f\"Car Brand: {self.brand}\")\n",
        "\n",
        "# Derived class (inherits from Car)\n",
        "class ElectricCar(Car):\n",
        "    def __init__(self, type, brand, battery):\n",
        "        super().__init__(type, brand)\n",
        "        self.battery = battery\n",
        "\n",
        "    def display_battery(self):\n",
        "        print(f\"Battery Capacity: {self.battery} kWh\")"
      ],
      "metadata": {
        "id": "QilyVidwTFvd"
      },
      "execution_count": null,
      "outputs": []
    },
    {
      "cell_type": "code",
      "source": [
        "tesla = ElectricCar(\"Sedan\", \"Tesla\", 75)"
      ],
      "metadata": {
        "id": "miChsR_BTm_4"
      },
      "execution_count": null,
      "outputs": []
    },
    {
      "cell_type": "code",
      "source": [
        "tesla.display_type()"
      ],
      "metadata": {
        "colab": {
          "base_uri": "https://localhost:8080/"
        },
        "id": "hYFcveBkTpaf",
        "outputId": "127aad36-2ff2-4dbc-a996-081f38306580"
      },
      "execution_count": null,
      "outputs": [
        {
          "output_type": "stream",
          "name": "stdout",
          "text": [
            "Vehicle Type: Sedan\n"
          ]
        }
      ]
    },
    {
      "cell_type": "code",
      "source": [
        "tesla.display_car()"
      ],
      "metadata": {
        "colab": {
          "base_uri": "https://localhost:8080/"
        },
        "id": "KdE-rHwsTslT",
        "outputId": "57d6f498-7f67-4930-c1f3-675fd503b8fe"
      },
      "execution_count": null,
      "outputs": [
        {
          "output_type": "stream",
          "name": "stdout",
          "text": [
            "Car Brand: Tesla\n"
          ]
        }
      ]
    },
    {
      "cell_type": "code",
      "source": [
        "tesla.display_battery()"
      ],
      "metadata": {
        "colab": {
          "base_uri": "https://localhost:8080/"
        },
        "id": "pTrQc1jnTuuu",
        "outputId": "6451ee04-8961-4e7d-dc03-78ffa88b6ac9"
      },
      "execution_count": null,
      "outputs": [
        {
          "output_type": "stream",
          "name": "stdout",
          "text": [
            "Battery Capacity: 75 kWh\n"
          ]
        }
      ]
    },
    {
      "cell_type": "code",
      "source": [
        "# 4.  Implement a multi-level inheritance scenario where a class Vehicle has an attribute type. Derive a class Car and further derive a class ElectricCar that adds a battery attribute.\n",
        "\n",
        "# same as 3rd question's answer"
      ],
      "metadata": {
        "id": "f6BpIKiFTzB7"
      },
      "execution_count": null,
      "outputs": []
    },
    {
      "cell_type": "code",
      "source": [
        "# 5.  Write a program to demonstrate encapsulation by creating a class BankAccount with private attributes balance and methods to deposit, withdraw, and check balance\n",
        "\n",
        "class BankAccount:\n",
        "    def __init__(self, initial_balance=0):\n",
        "        self.__balance = initial_balance  # Private attribute\n",
        "\n",
        "    def deposit(self, amount):\n",
        "        if amount > 0:\n",
        "            self.__balance += amount\n",
        "            print(f\"Deposited: ${amount:.2f}\")\n",
        "        else:\n",
        "            print(\"Deposit amount must be positive!\")\n",
        "\n",
        "    def withdraw(self, amount):\n",
        "        if 0 < amount <= self.__balance:\n",
        "            self.__balance -= amount\n",
        "            print(f\"Withdrawn: ${amount:.2f}\")\n",
        "        else:\n",
        "            print(\"Insufficient balance or invalid amount!\")\n",
        "\n",
        "    def check_balance(self):\n",
        "        print(f\"Current Balance: ${self.__balance:.2f}\")"
      ],
      "metadata": {
        "id": "HZcF3IbzUJD_"
      },
      "execution_count": null,
      "outputs": []
    },
    {
      "cell_type": "code",
      "source": [
        "account = BankAccount(100)"
      ],
      "metadata": {
        "id": "I0IdjD8FUeaZ"
      },
      "execution_count": null,
      "outputs": []
    },
    {
      "cell_type": "code",
      "source": [
        "account.deposit(50)"
      ],
      "metadata": {
        "colab": {
          "base_uri": "https://localhost:8080/"
        },
        "id": "UbSfGgWDUkgw",
        "outputId": "4afdbc6b-b5db-45a9-c4bb-35d2298c679a"
      },
      "execution_count": null,
      "outputs": [
        {
          "output_type": "stream",
          "name": "stdout",
          "text": [
            "Deposited: $50.00\n"
          ]
        }
      ]
    },
    {
      "cell_type": "code",
      "source": [
        "account.withdraw(30)"
      ],
      "metadata": {
        "colab": {
          "base_uri": "https://localhost:8080/"
        },
        "id": "MRKnA2hpUnQj",
        "outputId": "d5792ffa-6847-44cf-98df-b4a31b8b2806"
      },
      "execution_count": null,
      "outputs": [
        {
          "output_type": "stream",
          "name": "stdout",
          "text": [
            "Withdrawn: $30.00\n"
          ]
        }
      ]
    },
    {
      "cell_type": "code",
      "source": [
        "account.check_balance()"
      ],
      "metadata": {
        "colab": {
          "base_uri": "https://localhost:8080/"
        },
        "id": "C5LZjcJsUpJM",
        "outputId": "ee7aab56-b37a-4fc9-af68-e15fcacdf432"
      },
      "execution_count": null,
      "outputs": [
        {
          "output_type": "stream",
          "name": "stdout",
          "text": [
            "Current Balance: $120.00\n"
          ]
        }
      ]
    },
    {
      "cell_type": "code",
      "source": [
        "# 6. Demonstrate runtime polymorphism using a method play() in a base class Instrument. Derive classes Guitar and Piano that implement their own version of play().\n",
        "\n",
        "class Instrument:\n",
        "    def play(self):\n",
        "        print(\"Generic instrument sound\")\n",
        "\n",
        "class Guitar(Instrument):\n",
        "    def play(self):\n",
        "        print(\"Guitar sound\")\n",
        "\n",
        "class Piano(Instrument):\n",
        "    def play(self):\n",
        "        print(\"Piano sound\")\n",
        "\n"
      ],
      "metadata": {
        "id": "CYfBd0BFUqhT"
      },
      "execution_count": null,
      "outputs": []
    },
    {
      "cell_type": "code",
      "source": [
        "guitar = Guitar()\n",
        "piano = Piano()\n"
      ],
      "metadata": {
        "id": "uRvolOUaU5r9"
      },
      "execution_count": null,
      "outputs": []
    },
    {
      "cell_type": "code",
      "source": [
        "# 7.  Create a class MathOperations with a class method add_numbers() to add two numbers and a static method subtract_numbers() to subtract two numbers.\n",
        "\n",
        "class MathOperations:\n",
        "    @classmethod\n",
        "    def add_numbers(cls, a, b):\n",
        "        return a + b\n",
        "\n",
        "    @staticmethod\n",
        "    def subtract_numbers(a, b):\n",
        "        return a - b"
      ],
      "metadata": {
        "id": "6AQPhmivVFcH"
      },
      "execution_count": null,
      "outputs": []
    },
    {
      "cell_type": "code",
      "source": [
        "operation = MathOperations()"
      ],
      "metadata": {
        "id": "wrdXnzJcWS0L"
      },
      "execution_count": null,
      "outputs": []
    },
    {
      "cell_type": "code",
      "source": [
        "addition_result = operation.add_numbers(5, 3)"
      ],
      "metadata": {
        "id": "iWo6uK3QWbV4"
      },
      "execution_count": null,
      "outputs": []
    },
    {
      "cell_type": "code",
      "source": [
        "subtraction_result = MathOperations.subtract_numbers(10, 4)"
      ],
      "metadata": {
        "id": "JFelSRd5WkcU"
      },
      "execution_count": null,
      "outputs": []
    },
    {
      "cell_type": "code",
      "source": [
        "addition_result"
      ],
      "metadata": {
        "colab": {
          "base_uri": "https://localhost:8080/"
        },
        "id": "D8p2H1LlWoRh",
        "outputId": "96ac748f-ecbb-47e4-f42f-ba90798f0a27"
      },
      "execution_count": null,
      "outputs": [
        {
          "output_type": "execute_result",
          "data": {
            "text/plain": [
              "8"
            ]
          },
          "metadata": {},
          "execution_count": 35
        }
      ]
    },
    {
      "cell_type": "code",
      "source": [
        "subtraction_result"
      ],
      "metadata": {
        "colab": {
          "base_uri": "https://localhost:8080/"
        },
        "id": "P2SfFb1gWrGQ",
        "outputId": "a8b86148-49f3-4054-bba3-de8f60cf3ead"
      },
      "execution_count": null,
      "outputs": [
        {
          "output_type": "execute_result",
          "data": {
            "text/plain": [
              "6"
            ]
          },
          "metadata": {},
          "execution_count": 37
        }
      ]
    },
    {
      "cell_type": "code",
      "source": [
        "# 8.  Implement a class Person with a class method to count the total number of persons created.\n",
        "\n",
        "class Person:\n",
        "    # Class variable to keep track of the count\n",
        "    _total_persons = 0\n",
        "\n",
        "    def __init__(self, name, age):\n",
        "        self.name = name\n",
        "        self.age = age\n",
        "        Person._total_persons += 1  # Increment the count whenever a new person is created\n",
        "\n",
        "    # Class method to return the total number of persons\n",
        "    @classmethod\n",
        "    def total_persons(cls):\n",
        "        return cls._total_persons\n"
      ],
      "metadata": {
        "id": "PuFOLLziWswC"
      },
      "execution_count": null,
      "outputs": []
    },
    {
      "cell_type": "code",
      "source": [
        "# Creating instances of Person\n",
        "person1 = Person(\"Alice\", 30)\n",
        "person2 = Person(\"Bob\", 25)\n",
        "person3 = Person(\"Charlie\", 35)"
      ],
      "metadata": {
        "id": "YofNtc5dYNoE"
      },
      "execution_count": null,
      "outputs": []
    },
    {
      "cell_type": "code",
      "source": [
        "print(f\"Total Persons Created: {Person.total_persons()}\")"
      ],
      "metadata": {
        "colab": {
          "base_uri": "https://localhost:8080/"
        },
        "id": "zObswNnoY-_R",
        "outputId": "e65821c4-b5d5-479c-c8c3-2083170a7dd0"
      },
      "execution_count": null,
      "outputs": [
        {
          "output_type": "stream",
          "name": "stdout",
          "text": [
            "Total Persons Created: 3\n"
          ]
        }
      ]
    },
    {
      "cell_type": "code",
      "source": [
        "# 9.  Write a class Fraction with attributes numerator and denominator. Override the str method to display the fraction as \"numerator/denominator\".\n",
        "\n",
        "class fraction:\n",
        "    def __init__(self, numerator, denominator):\n",
        "        self.numerator = numerator\n",
        "        self.denominator = denominator\n",
        "\n",
        "    def __str__(self):\n",
        "        return f\"{self.numerator}/{self.denominator}\"\n"
      ],
      "metadata": {
        "id": "6XAh-3RSZCE5"
      },
      "execution_count": null,
      "outputs": []
    },
    {
      "cell_type": "code",
      "source": [
        "fraction1 = fraction(3, 5)"
      ],
      "metadata": {
        "id": "YAGP44hdZUHh"
      },
      "execution_count": null,
      "outputs": []
    },
    {
      "cell_type": "code",
      "source": [
        "fraction1"
      ],
      "metadata": {
        "colab": {
          "base_uri": "https://localhost:8080/"
        },
        "id": "jlWloQgYZYth",
        "outputId": "7f70264b-93ea-4247-9055-eab4cfb6a89c"
      },
      "execution_count": null,
      "outputs": [
        {
          "output_type": "execute_result",
          "data": {
            "text/plain": [
              "<__main__.fraction at 0x7adb9a559290>"
            ]
          },
          "metadata": {},
          "execution_count": 54
        }
      ]
    },
    {
      "cell_type": "code",
      "source": [
        "fraction2 = fraction(1, 2)"
      ],
      "metadata": {
        "id": "DHVYni45Zal-"
      },
      "execution_count": null,
      "outputs": []
    },
    {
      "cell_type": "code",
      "source": [
        "fraction2"
      ],
      "metadata": {
        "colab": {
          "base_uri": "https://localhost:8080/"
        },
        "id": "2yGJSCFwZdgu",
        "outputId": "ec1e0324-9da0-45a0-9a78-02fd7d92c058"
      },
      "execution_count": null,
      "outputs": [
        {
          "output_type": "execute_result",
          "data": {
            "text/plain": [
              "<__main__.fraction at 0x7adbb0368490>"
            ]
          },
          "metadata": {},
          "execution_count": 56
        }
      ]
    },
    {
      "cell_type": "code",
      "source": [
        "#. 10. Demonstrate operator overloading by creating a class Vector and overriding the add method to add two vectors.\n",
        "\n",
        "class vector:\n",
        "  def __init__(self, x, y):\n",
        "    self.x = x\n",
        "    self.y = y\n",
        "\n",
        "  def __add__(self, other):\n",
        "    return vector(self.x + other.x, self.y + other.y)"
      ],
      "metadata": {
        "id": "Y5oJcVYRZfUT"
      },
      "execution_count": null,
      "outputs": []
    },
    {
      "cell_type": "code",
      "source": [
        "vector1 = vector(1, 2)\n",
        "vector2 = vector(3, 4)"
      ],
      "metadata": {
        "id": "KBfhFArkZ3Ek"
      },
      "execution_count": null,
      "outputs": []
    },
    {
      "cell_type": "code",
      "source": [
        "vector3 = vector1 + vector2"
      ],
      "metadata": {
        "id": "DCvXmx7QZ5Hj"
      },
      "execution_count": null,
      "outputs": []
    },
    {
      "cell_type": "code",
      "source": [
        "vector3.x"
      ],
      "metadata": {
        "colab": {
          "base_uri": "https://localhost:8080/"
        },
        "id": "LulXWwkOZ7GT",
        "outputId": "b63cd94a-e1a6-4520-b111-d92ff9174aef"
      },
      "execution_count": null,
      "outputs": [
        {
          "output_type": "execute_result",
          "data": {
            "text/plain": [
              "4"
            ]
          },
          "metadata": {},
          "execution_count": 62
        }
      ]
    },
    {
      "cell_type": "code",
      "source": [
        "vector3.y"
      ],
      "metadata": {
        "colab": {
          "base_uri": "https://localhost:8080/"
        },
        "id": "HitKw33caFqY",
        "outputId": "e4659592-6ec9-408b-de1d-b658aaf6fb65"
      },
      "execution_count": null,
      "outputs": [
        {
          "output_type": "execute_result",
          "data": {
            "text/plain": [
              "6"
            ]
          },
          "metadata": {},
          "execution_count": 63
        }
      ]
    },
    {
      "cell_type": "code",
      "source": [
        "#. 11. Create a class Person with attributes name and age. Add a method greet() that prints \"Hello, my name is {name} and I am {age} years old.\"\n",
        "\n",
        "class Person:\n",
        "    def __init__(self, name, age):\n",
        "        self.name = name\n",
        "        self.age = age\n",
        "\n",
        "    def greet(self):\n",
        "        print(f\"Hello, my name is {self.name} and I am {self.age} years old.\")"
      ],
      "metadata": {
        "id": "p6gXAMdFaIs3"
      },
      "execution_count": null,
      "outputs": []
    },
    {
      "cell_type": "code",
      "source": [
        "person = Person(\"Rohit\", 25)"
      ],
      "metadata": {
        "id": "rhPJOdZcaWls"
      },
      "execution_count": null,
      "outputs": []
    },
    {
      "cell_type": "code",
      "source": [
        "person.greet()"
      ],
      "metadata": {
        "colab": {
          "base_uri": "https://localhost:8080/"
        },
        "id": "S3K1vNkHaeMs",
        "outputId": "4a7faf6d-7954-4622-f307-cf781c235cbe"
      },
      "execution_count": null,
      "outputs": [
        {
          "output_type": "stream",
          "name": "stdout",
          "text": [
            "Hello, my name is Rohit and I am 25 years old.\n"
          ]
        }
      ]
    },
    {
      "cell_type": "code",
      "source": [
        "# 12.  Implement a class Student with attributes name and grades. Create a method average_grade() to compute the average of the grades.\n",
        "\n",
        "class Student:\n",
        "    def __init__(self, name, grades):\n",
        "        self.name = name\n",
        "        self.grades = grades\n",
        "\n",
        "    def average_grade(self):\n",
        "        if not self.grades:\n",
        "            return 0\n",
        "            return sum(self.grades) / len(self.grades)\n"
      ],
      "metadata": {
        "id": "6UfW1mGCakxg"
      },
      "execution_count": null,
      "outputs": []
    },
    {
      "cell_type": "code",
      "source": [
        "student = Student(\"Rohit\", [90, 85, 88, 92])\n"
      ],
      "metadata": {
        "id": "6UPW8mxRbx9n"
      },
      "execution_count": null,
      "outputs": []
    },
    {
      "cell_type": "code",
      "source": [
        "student.average_grade()"
      ],
      "metadata": {
        "id": "z32b3YsscJWv"
      },
      "execution_count": null,
      "outputs": []
    },
    {
      "cell_type": "code",
      "source": [
        "student.name"
      ],
      "metadata": {
        "colab": {
          "base_uri": "https://localhost:8080/",
          "height": 35
        },
        "id": "YxNaKtu0cPPd",
        "outputId": "ad5cb552-4334-4e08-9d3c-a1e2e35a121a"
      },
      "execution_count": null,
      "outputs": [
        {
          "output_type": "execute_result",
          "data": {
            "text/plain": [
              "'Rohit'"
            ],
            "application/vnd.google.colaboratory.intrinsic+json": {
              "type": "string"
            }
          },
          "metadata": {},
          "execution_count": 79
        }
      ]
    },
    {
      "cell_type": "code",
      "source": [
        "student.grades"
      ],
      "metadata": {
        "colab": {
          "base_uri": "https://localhost:8080/"
        },
        "id": "RLEHKzUScSvD",
        "outputId": "a43fa2f7-8964-432e-b2cb-bc75e6ea5dcb"
      },
      "execution_count": null,
      "outputs": [
        {
          "output_type": "execute_result",
          "data": {
            "text/plain": [
              "[90, 85, 88, 92]"
            ]
          },
          "metadata": {},
          "execution_count": 80
        }
      ]
    },
    {
      "cell_type": "code",
      "source": [
        "average = student.average_grade()"
      ],
      "metadata": {
        "id": "mVb35vclcVRA"
      },
      "execution_count": null,
      "outputs": []
    },
    {
      "cell_type": "code",
      "source": [
        "# 13.  Create a class Rectangle with methods set_dimensions() to set the dimensions and area() to calculate the area.\n",
        "\n",
        "class Rectangle:\n",
        "    def __init__(self, length=0, width=0):\n",
        "        self.length = length\n",
        "        self.width = width\n",
        "\n",
        "    def set_dimensions(self, length, width):\n",
        "        self.length = length\n",
        "        self.width = width\n",
        "\n",
        "    def area(self):\n",
        "        return self.length * self.width"
      ],
      "metadata": {
        "id": "aapGQFr-cfJp"
      },
      "execution_count": null,
      "outputs": []
    },
    {
      "cell_type": "code",
      "source": [
        "Rectangle1 = Rectangle()"
      ],
      "metadata": {
        "id": "N9GGR7Pdc58B"
      },
      "execution_count": null,
      "outputs": []
    },
    {
      "cell_type": "code",
      "source": [
        "Rectangle1.set_dimensions(5, 10)"
      ],
      "metadata": {
        "id": "rONaBMiXc__K"
      },
      "execution_count": null,
      "outputs": []
    },
    {
      "cell_type": "code",
      "source": [
        "Rectangle1.area()"
      ],
      "metadata": {
        "colab": {
          "base_uri": "https://localhost:8080/"
        },
        "id": "G-L21Z9cdGXE",
        "outputId": "09ed4e70-0639-462c-ea95-d111fad967e0"
      },
      "execution_count": null,
      "outputs": [
        {
          "output_type": "execute_result",
          "data": {
            "text/plain": [
              "50"
            ]
          },
          "metadata": {},
          "execution_count": 88
        }
      ]
    },
    {
      "cell_type": "code",
      "source": [
        "# 14.  Create a class Employee with a method calculate_salary() that computes the salary based on hours worked and hourly rate. Create a derived class Manager that adds a bonus to the salary.\n",
        "\n",
        "class Employee:\n",
        "    def __init__(self, name, hours_worked, hourly_rate):\n",
        "        self.name = name\n",
        "        self.hours_worked = hours_worked\n",
        "        self.hourly_rate = hourly_rate\n",
        "\n",
        "    def calculate_salary(self):\n",
        "        return self.hours_worked * self.hourly_rate\n",
        "\n",
        "class Manager(Employee):\n",
        "    def __init__(self, name, hours_worked, hourly_rate, bonus):\n",
        "        super().__init__(name, hours_worked, hourly_rate)\n",
        "        self.bonus = bonus\n",
        "\n",
        "    def calculate_salary(self):\n",
        "        return super().calculate_salary() + self.bonus"
      ],
      "metadata": {
        "id": "iGwzn-xLdIuO"
      },
      "execution_count": 1,
      "outputs": []
    },
    {
      "cell_type": "code",
      "source": [
        "emp = Employee(\"Rohit\", 40, 20)\n",
        "print(f\"{emp.name}'s Salary: ${emp.calculate_salary()}\")"
      ],
      "metadata": {
        "colab": {
          "base_uri": "https://localhost:8080/"
        },
        "id": "OtRIN6ADT145",
        "outputId": "2b06db86-4d94-4f6b-f9db-3ba8db067a14"
      },
      "execution_count": 3,
      "outputs": [
        {
          "output_type": "stream",
          "name": "stdout",
          "text": [
            "Rohit's Salary: $800\n"
          ]
        }
      ]
    },
    {
      "cell_type": "code",
      "source": [
        "mgr = Manager(\"Sumit\", 40, 30, 500)\n",
        "print(f\"{mgr.name}'s Salary: ${mgr.calculate_salary()}\")"
      ],
      "metadata": {
        "colab": {
          "base_uri": "https://localhost:8080/"
        },
        "id": "dnS_IAdPT9qk",
        "outputId": "b2bcc9e1-790a-4fa3-9b42-fcc465e6e573"
      },
      "execution_count": 4,
      "outputs": [
        {
          "output_type": "stream",
          "name": "stdout",
          "text": [
            "Sumit's Salary: $1700\n"
          ]
        }
      ]
    },
    {
      "cell_type": "code",
      "source": [
        "# 15.  Create a class Product with attributes name, price, and quantity. Implement a method total_price() that calculates the total price of the product.\n",
        "\n",
        "class Product:\n",
        "    def __init__(self, name, price, quantity):\n",
        "        self.name = name\n",
        "        self.price = price\n",
        "        self.quantity = quantity\n",
        "\n",
        "    def total_price(self):\n",
        "        return self.price * self.quantity"
      ],
      "metadata": {
        "id": "V8fClKT2UFyK"
      },
      "execution_count": 5,
      "outputs": []
    },
    {
      "cell_type": "code",
      "source": [
        "tp = Product(\"T-Shirt\", 20, 5)"
      ],
      "metadata": {
        "id": "bBZur-UBUZt-"
      },
      "execution_count": 6,
      "outputs": []
    },
    {
      "cell_type": "code",
      "source": [
        "tp.total_price()"
      ],
      "metadata": {
        "colab": {
          "base_uri": "https://localhost:8080/"
        },
        "id": "0-L8MOUQUnzu",
        "outputId": "7a940a04-fb02-45c4-a847-df28b1530365"
      },
      "execution_count": 7,
      "outputs": [
        {
          "output_type": "execute_result",
          "data": {
            "text/plain": [
              "100"
            ]
          },
          "metadata": {},
          "execution_count": 7
        }
      ]
    },
    {
      "cell_type": "code",
      "source": [
        "# 16. Create a class Animal with an abstract method sound(). Create two derived classes Cow and Sheep that implement the sound() method.\n",
        "\n",
        "from abc import ABC, abstractmethod\n",
        "\n",
        "class Animal(ABC):\n",
        "    @abstractmethod\n",
        "    def sound(self):\n",
        "        pass\n",
        "\n",
        "class Cow(Animal):\n",
        "    def sound(self):\n",
        "        print(\"Moo!\")\n",
        "\n",
        "class Sheep(Animal):\n",
        "    def sound(self):\n",
        "        print(\"Baa\")"
      ],
      "metadata": {
        "id": "F2EvBxuMUvao"
      },
      "execution_count": 11,
      "outputs": []
    },
    {
      "cell_type": "code",
      "source": [
        "cow = Cow()\n",
        "cow.sound()"
      ],
      "metadata": {
        "colab": {
          "base_uri": "https://localhost:8080/"
        },
        "id": "e1Ag2641VK-i",
        "outputId": "07d533e5-b28a-4654-e7f1-50cf95334bc6"
      },
      "execution_count": 12,
      "outputs": [
        {
          "output_type": "stream",
          "name": "stdout",
          "text": [
            "Moo!\n"
          ]
        }
      ]
    },
    {
      "cell_type": "code",
      "source": [
        "sheep = Sheep()\n",
        "sheep.sound()"
      ],
      "metadata": {
        "colab": {
          "base_uri": "https://localhost:8080/"
        },
        "id": "EA-FJCucVYkV",
        "outputId": "4b76637d-e4da-4503-8109-5e503fc25ad3"
      },
      "execution_count": 13,
      "outputs": [
        {
          "output_type": "stream",
          "name": "stdout",
          "text": [
            "Baa\n"
          ]
        }
      ]
    },
    {
      "cell_type": "code",
      "source": [
        "# 17. Create a class Book with attributes title, author, and year_published. Add a method get_book_info() that returns a formatted string with the book's details.\n",
        "\n",
        "class book:\n",
        "  def __init__(self, title, author, year_published):\n",
        "    self.title = title\n",
        "    self.author = author\n",
        "    self.year_published = year_published\n",
        "\n",
        "  def get_book_info(self):\n",
        "    return f\"Title: {self.title}\\nAuthor: {self.author}\\nYear Published: {self.year_published}\""
      ],
      "metadata": {
        "id": "VzaELnEEVu71"
      },
      "execution_count": 15,
      "outputs": []
    },
    {
      "cell_type": "code",
      "source": [
        "bk = book(\"The Alchemist\", \"Paulo Coelho\", 1988)\n",
        "bk.get_book_info()"
      ],
      "metadata": {
        "colab": {
          "base_uri": "https://localhost:8080/",
          "height": 35
        },
        "id": "2MNtQu2lWYod",
        "outputId": "217be0d6-b7a1-45de-ca77-95fe1ef300cf"
      },
      "execution_count": 17,
      "outputs": [
        {
          "output_type": "execute_result",
          "data": {
            "text/plain": [
              "'Title: The Alchemist\\nAuthor: Paulo Coelho\\nYear Published: 1988'"
            ],
            "application/vnd.google.colaboratory.intrinsic+json": {
              "type": "string"
            }
          },
          "metadata": {},
          "execution_count": 17
        }
      ]
    },
    {
      "cell_type": "code",
      "source": [
        "bk.author"
      ],
      "metadata": {
        "colab": {
          "base_uri": "https://localhost:8080/",
          "height": 35
        },
        "id": "yqXQJvJpWowz",
        "outputId": "d6a04ec9-6add-4751-e38b-93366148d47a"
      },
      "execution_count": 18,
      "outputs": [
        {
          "output_type": "execute_result",
          "data": {
            "text/plain": [
              "'Paulo Coelho'"
            ],
            "application/vnd.google.colaboratory.intrinsic+json": {
              "type": "string"
            }
          },
          "metadata": {},
          "execution_count": 18
        }
      ]
    },
    {
      "cell_type": "code",
      "source": [
        "bk.title"
      ],
      "metadata": {
        "colab": {
          "base_uri": "https://localhost:8080/",
          "height": 35
        },
        "id": "qNyzy3OFW2WW",
        "outputId": "81c701ce-32a5-4780-a207-37aae690feb8"
      },
      "execution_count": 19,
      "outputs": [
        {
          "output_type": "execute_result",
          "data": {
            "text/plain": [
              "'The Alchemist'"
            ],
            "application/vnd.google.colaboratory.intrinsic+json": {
              "type": "string"
            }
          },
          "metadata": {},
          "execution_count": 19
        }
      ]
    },
    {
      "cell_type": "code",
      "source": [
        "bk.year_published"
      ],
      "metadata": {
        "colab": {
          "base_uri": "https://localhost:8080/"
        },
        "id": "MBHeaWEEW4KA",
        "outputId": "80f2821e-2a8e-4dbd-ccfe-34b13fc3a244"
      },
      "execution_count": 20,
      "outputs": [
        {
          "output_type": "execute_result",
          "data": {
            "text/plain": [
              "1988"
            ]
          },
          "metadata": {},
          "execution_count": 20
        }
      ]
    },
    {
      "cell_type": "code",
      "source": [
        "# 18. Create a class House with attributes address and price. Create a derived class Mansion that adds an attribute number_of_rooms.\n",
        "\n",
        "class house:\n",
        "  def __init__(self, address, price):\n",
        "    self.address = address\n",
        "    self.price = price\n",
        "\n",
        "  def display_info(self):\n",
        "        return f\"Address: {self.address}, Price: ${self.price}\"\n",
        "\n",
        "class mansion(house):\n",
        "  def __init__(self, address, price, number_of_rooms):\n",
        "    super().__init__(address, price)\n",
        "    self.number_of_rooms = number_of_rooms\n",
        "\n",
        "  def display_info(self):\n",
        "        return f\"Address: {self.address}, Price: ${self.price}, Rooms: {self.number_of_rooms}\""
      ],
      "metadata": {
        "id": "_9Rn29VTW6DA"
      },
      "execution_count": 27,
      "outputs": []
    },
    {
      "cell_type": "code",
      "source": [
        "h1 = house(\"123 Main St\", 250000)\n",
        "print(h1.display_info())"
      ],
      "metadata": {
        "colab": {
          "base_uri": "https://localhost:8080/"
        },
        "id": "vDb6d6d6XKzJ",
        "outputId": "0745f2ef-41c1-4c82-aef2-6e14ea55ecca"
      },
      "execution_count": 29,
      "outputs": [
        {
          "output_type": "stream",
          "name": "stdout",
          "text": [
            "Address: 123 Main St, Price: $250000\n"
          ]
        }
      ]
    },
    {
      "cell_type": "code",
      "source": [
        "m1 = mansion(\"456 Elm St\", 350000, 4)\n",
        "print(m1.display_info())"
      ],
      "metadata": {
        "colab": {
          "base_uri": "https://localhost:8080/"
        },
        "id": "BuORNOWkXuag",
        "outputId": "0fa6b095-06c9-4aa5-a0ba-e19f16cae9a2"
      },
      "execution_count": 30,
      "outputs": [
        {
          "output_type": "stream",
          "name": "stdout",
          "text": [
            "Address: 456 Elm St, Price: $350000, Rooms: 4\n"
          ]
        }
      ]
    },
    {
      "cell_type": "code",
      "source": [
        "h1.address"
      ],
      "metadata": {
        "colab": {
          "base_uri": "https://localhost:8080/",
          "height": 35
        },
        "id": "LnJtA44aX3Of",
        "outputId": "ea286a2b-9158-4ca5-e689-f404d6799c52"
      },
      "execution_count": 26,
      "outputs": [
        {
          "output_type": "execute_result",
          "data": {
            "text/plain": [
              "'123 Main St'"
            ],
            "application/vnd.google.colaboratory.intrinsic+json": {
              "type": "string"
            }
          },
          "metadata": {},
          "execution_count": 26
        }
      ]
    },
    {
      "cell_type": "code",
      "source": [],
      "metadata": {
        "id": "t0RPnHFOYA2u"
      },
      "execution_count": null,
      "outputs": []
    }
  ]
}